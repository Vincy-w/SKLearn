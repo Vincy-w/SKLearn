{
 "cells": [
  {
   "cell_type": "code",
   "execution_count": 119,
   "id": "1b3f4a77-c192-451c-8028-bb2c512cc5e1",
   "metadata": {},
   "outputs": [
    {
     "name": "stdout",
     "output_type": "stream",
     "text": [
      "hello world\n"
     ]
    }
   ],
   "source": [
    "print(\"hello world\")"
   ]
  },
  {
   "cell_type": "code",
   "execution_count": 120,
   "id": "15b4b80b-5b07-4f67-a3c9-25ddc882494f",
   "metadata": {},
   "outputs": [
    {
     "name": "stdout",
     "output_type": "stream",
     "text": [
      "hello world\n"
     ]
    }
   ],
   "source": [
    "message=\"hello world\"\n",
    "print(message)"
   ]
  },
  {
   "cell_type": "code",
   "execution_count": 121,
   "id": "67930052-e23a-41f1-892c-5e6906e3a75e",
   "metadata": {},
   "outputs": [
    {
     "name": "stdout",
     "output_type": "stream",
     "text": [
      "hello python world\n"
     ]
    }
   ],
   "source": [
    "message=\"hello python world\"\n",
    "print(message)"
   ]
  },
  {
   "cell_type": "code",
   "execution_count": 122,
   "id": "2a6e50ac-3f30-44e7-951a-e83cdd773345",
   "metadata": {},
   "outputs": [
    {
     "name": "stdout",
     "output_type": "stream",
     "text": [
      "tom said\"hello world\"\n"
     ]
    }
   ],
   "source": [
    "print('tom said\"hello world\"')"
   ]
  },
  {
   "cell_type": "code",
   "execution_count": 123,
   "id": "1b29a926-57f6-4950-b0bc-f648b17ed315",
   "metadata": {},
   "outputs": [
    {
     "name": "stdout",
     "output_type": "stream",
     "text": [
      "vincy wang\n"
     ]
    }
   ],
   "source": [
    "first_name = \"vincy\"\n",
    "last_name = \"wang\"\n",
    "full_name = f\"{first_name} {last_name}\"\n",
    "print(full_name)"
   ]
  },
  {
   "cell_type": "code",
   "execution_count": 124,
   "id": "3de23a47-af3a-48a2-affc-48f984656af1",
   "metadata": {},
   "outputs": [
    {
     "name": "stdout",
     "output_type": "stream",
     "text": [
      "Hello,Vincy Wang\n"
     ]
    }
   ],
   "source": [
    "print(f\"Hello,{full_name.title()}\")"
   ]
  },
  {
   "cell_type": "code",
   "execution_count": 125,
   "id": "c427d2a5-0c2f-4a4c-b173-eb3f08866c0e",
   "metadata": {},
   "outputs": [
    {
     "name": "stdout",
     "output_type": "stream",
     "text": [
      "Hello Eric,would you like to learn some Python today?\n"
     ]
    }
   ],
   "source": [
    "name = \"Eric\"\n",
    "print(f\"Hello {name},would you like to learn some Python today?\")"
   ]
  },
  {
   "cell_type": "code",
   "execution_count": 126,
   "id": "feabb73d-658b-4515-bc42-070b427ff981",
   "metadata": {},
   "outputs": [
    {
     "name": "stdout",
     "output_type": "stream",
     "text": [
      "eric\n",
      "ERIC\n",
      "Eric\n"
     ]
    }
   ],
   "source": [
    "name = \"eric\"\n",
    "print(name.lower())\n",
    "print(name.upper())\n",
    "print(name.title())"
   ]
  },
  {
   "cell_type": "code",
   "execution_count": 127,
   "id": "9c56d7a7-5c40-4f28-9d74-7e896eab7da8",
   "metadata": {},
   "outputs": [
    {
     "name": "stdout",
     "output_type": "stream",
     "text": [
      "Albert Einstein once said,\"A person who never made a mistake never tried anything new.\"\n"
     ]
    }
   ],
   "source": [
    "name = \"Albert Einstein\"\n",
    "sentence = \"A person who never made a mistake never tried anything new.\"\n",
    "print(f'{name} once said,\"{sentence}\"')"
   ]
  },
  {
   "cell_type": "code",
   "execution_count": 128,
   "id": "75a8d986-74be-4817-9373-ba1843759c5a",
   "metadata": {},
   "outputs": [
    {
     "name": "stdout",
     "output_type": "stream",
     "text": [
      "\t eric \n",
      "\n",
      "eric\n"
     ]
    }
   ],
   "source": [
    "name = \"\\t eric \\n\"\n",
    "print(name)\n",
    "print(name.strip())"
   ]
  },
  {
   "cell_type": "code",
   "execution_count": 129,
   "id": "7e286de5-30d6-49ae-8117-20e595cc132a",
   "metadata": {},
   "outputs": [
    {
     "data": {
      "text/plain": [
       "27"
      ]
     },
     "execution_count": 129,
     "metadata": {},
     "output_type": "execute_result"
    }
   ],
   "source": [
    "3 ** 3 #python用两个乘号表示幂运算"
   ]
  },
  {
   "cell_type": "code",
   "execution_count": 130,
   "id": "b0dc1921-ec58-458f-8dce-30b7e3027226",
   "metadata": {},
   "outputs": [
    {
     "name": "stdout",
     "output_type": "stream",
     "text": [
      "0 1 2\n"
     ]
    }
   ],
   "source": [
    "x,y,z = 0,1,2 #多变量赋值\n",
    "print(x,y,z)"
   ]
  },
  {
   "cell_type": "code",
   "execution_count": 131,
   "id": "08aa6884-742e-49fe-8820-f7c40701743e",
   "metadata": {},
   "outputs": [
    {
     "name": "stdout",
     "output_type": "stream",
     "text": [
      "8\n",
      "8\n",
      "8\n",
      "8.0\n"
     ]
    }
   ],
   "source": [
    "print(4+4)\n",
    "print(2*4)\n",
    "print(9-1)\n",
    "print(16/2)"
   ]
  },
  {
   "cell_type": "code",
   "execution_count": 132,
   "id": "5c94e262-1cd2-412c-a179-28138fa72771",
   "metadata": {},
   "outputs": [],
   "source": [
    "import this"
   ]
  },
  {
   "cell_type": "code",
   "execution_count": 133,
   "id": "f663b104-7518-474c-832e-04e9a59de74a",
   "metadata": {},
   "outputs": [
    {
     "name": "stdout",
     "output_type": "stream",
     "text": [
      "Jack\n",
      "Tom\n",
      "Vincy\n",
      "Marry\n",
      "Jenny\n"
     ]
    }
   ],
   "source": [
    "names = ['Jack','tom','vincy','marry','jenny']\n",
    "\n",
    "for ele in names:\n",
    "    print(ele.title())"
   ]
  },
  {
   "cell_type": "code",
   "execution_count": 134,
   "id": "4be8868a-707e-428e-9d40-c2bfc88af087",
   "metadata": {},
   "outputs": [
    {
     "name": "stdout",
     "output_type": "stream",
     "text": [
      "Jack,how are you.\n",
      "Tom,how are you.\n",
      "Vincy,how are you.\n",
      "Marry,how are you.\n",
      "Jenny,how are you.\n"
     ]
    }
   ],
   "source": [
    "for ele in names:\n",
    "    print(f'{ele.title()},how are you.')"
   ]
  },
  {
   "cell_type": "code",
   "execution_count": 135,
   "id": "72db360f-0d12-45bf-9592-fa79236462f9",
   "metadata": {},
   "outputs": [
    {
     "name": "stdout",
     "output_type": "stream",
     "text": [
      "I'd like to own a Honda motorcycle.\n",
      "I'd like to own a Jeep car.\n",
      "I'd like to go everywhere by subway.\n"
     ]
    }
   ],
   "source": [
    "traffic = ['motorcycle','car','subway']\n",
    "print(f\"I'd like to own a Honda {traffic[0]}.\")\n",
    "print(f\"I'd like to own a Jeep {traffic[1]}.\")\n",
    "print(f\"I'd like to go everywhere by {traffic[2]}.\")"
   ]
  },
  {
   "cell_type": "code",
   "execution_count": 136,
   "id": "64e64e42-7c01-4bf3-af5c-08a997559c6b",
   "metadata": {},
   "outputs": [
    {
     "name": "stdout",
     "output_type": "stream",
     "text": [
      "Evan Lu,would you please have dinner with me?\n",
      "Libra Zuo,would you please have dinner with me?\n",
      "Cheese Piggy,would you please have dinner with me?\n",
      "Cheese Piggycan't keep the appointment.\n"
     ]
    }
   ],
   "source": [
    "guests = ['Evan Lu','Libra Zuo','Cheese Piggy']\n",
    "\n",
    "for i in guests:\n",
    "    print(f\"{i},would you please have dinner with me?\")\n",
    "    \n",
    "print(f\"{guests[2]}can't keep the appointment.\")"
   ]
  },
  {
   "cell_type": "code",
   "execution_count": 137,
   "id": "dff4a367-80a5-4e1a-bed6-cc5c95d8e1b2",
   "metadata": {},
   "outputs": [
    {
     "name": "stdout",
     "output_type": "stream",
     "text": [
      "Evan Lu,would you please have dinner with me?\n",
      "Libra Zuo,would you please have dinner with me?\n",
      "Osborn Xiao,would you please have dinner with me?\n"
     ]
    }
   ],
   "source": [
    "guests[2] = 'Osborn Xiao'\n",
    "\n",
    "for i in guests:\n",
    "    print(f\"{i},would you please have dinner with me?\")"
   ]
  },
  {
   "cell_type": "code",
   "execution_count": 138,
   "id": "ea4d8e57-829d-48cd-9dce-10e9530e4199",
   "metadata": {},
   "outputs": [],
   "source": [
    "guests.insert(0,'Vincy Wang')\n",
    "guests.insert(2,'Isaac Newton')\n",
    "guests.append('Van Gogh')"
   ]
  },
  {
   "cell_type": "code",
   "execution_count": 139,
   "id": "6458f276-cc31-4419-a055-6d8e85cc9f71",
   "metadata": {},
   "outputs": [
    {
     "name": "stdout",
     "output_type": "stream",
     "text": [
      "Vincy Wang,would you please have dinner with me?\n",
      "Evan Lu,would you please have dinner with me?\n",
      "Isaac Newton,would you please have dinner with me?\n",
      "Libra Zuo,would you please have dinner with me?\n",
      "Osborn Xiao,would you please have dinner with me?\n",
      "Van Gogh,would you please have dinner with me?\n"
     ]
    }
   ],
   "source": [
    "for i in guests:\n",
    "    print(f\"{i},would you please have dinner with me?\")"
   ]
  },
  {
   "cell_type": "code",
   "execution_count": 140,
   "id": "9a6591ee-6cc7-4a15-b6cf-a169e34f2529",
   "metadata": {},
   "outputs": [
    {
     "name": "stdout",
     "output_type": "stream",
     "text": [
      "Van Gogh,sorry for you.\n",
      "Osborn Xiao,sorry for you.\n",
      "Libra Zuo,sorry for you.\n",
      "Isaac Newton,sorry for you.\n"
     ]
    }
   ],
   "source": [
    "for i in range(4):\n",
    "    gue = guests.pop()\n",
    "    print(f\"{gue},sorry for you.\")"
   ]
  },
  {
   "cell_type": "code",
   "execution_count": 141,
   "id": "36c807d5-b66a-4671-a8bc-f5f28dd5c286",
   "metadata": {},
   "outputs": [
    {
     "name": "stdout",
     "output_type": "stream",
     "text": [
      "Vincy Wang,the dinner will hold on time.\n",
      "Evan Lu,the dinner will hold on time.\n"
     ]
    }
   ],
   "source": [
    "for i in guests:\n",
    "    print(f\"{i},the dinner will hold on time.\")"
   ]
  },
  {
   "cell_type": "code",
   "execution_count": 142,
   "id": "f8898fc7-9712-405b-b569-d357197ef4fa",
   "metadata": {},
   "outputs": [
    {
     "name": "stdout",
     "output_type": "stream",
     "text": [
      "[]\n"
     ]
    }
   ],
   "source": [
    "del guests[0]\n",
    "del guests[0]\n",
    "print(guests)"
   ]
  },
  {
   "cell_type": "code",
   "execution_count": 143,
   "id": "10757d12-e443-467f-b8f9-5726b0f2ae61",
   "metadata": {},
   "outputs": [
    {
     "name": "stdout",
     "output_type": "stream",
     "text": [
      "['Morocco', 'Xuzhou', 'Paris', 'Mongolia', 'Eygpt']\n"
     ]
    }
   ],
   "source": [
    "destinations = ['Morocco','Xuzhou','Paris','Mongolia','Eygpt']\n",
    "\n",
    "print(destinations)"
   ]
  },
  {
   "cell_type": "code",
   "execution_count": 145,
   "id": "fe019328-61f6-4b79-9ad4-3d2a7a28265d",
   "metadata": {},
   "outputs": [
    {
     "name": "stdout",
     "output_type": "stream",
     "text": [
      "['Eygpt', 'Mongolia', 'Morocco', 'Paris', 'Xuzhou']\n"
     ]
    }
   ],
   "source": [
    "print(sorted(destinations))"
   ]
  },
  {
   "cell_type": "code",
   "execution_count": 146,
   "id": "3b12a217-f869-405d-8934-fe66d0124a18",
   "metadata": {},
   "outputs": [
    {
     "name": "stdout",
     "output_type": "stream",
     "text": [
      "['Morocco', 'Xuzhou', 'Paris', 'Mongolia', 'Eygpt']\n"
     ]
    }
   ],
   "source": [
    "print(destinations)"
   ]
  },
  {
   "cell_type": "code",
   "execution_count": 147,
   "id": "5d57f0aa-611b-4058-912c-a4d56e339dc4",
   "metadata": {},
   "outputs": [
    {
     "name": "stdout",
     "output_type": "stream",
     "text": [
      "['Eygpt', 'Mongolia', 'Paris', 'Xuzhou', 'Morocco']\n"
     ]
    }
   ],
   "source": [
    "destinations.reverse()\n",
    "print(destinations)"
   ]
  },
  {
   "cell_type": "code",
   "execution_count": 148,
   "id": "3431904b-bdce-4843-ab6a-1d2ac02eb1ec",
   "metadata": {},
   "outputs": [
    {
     "name": "stdout",
     "output_type": "stream",
     "text": [
      "['Morocco', 'Xuzhou', 'Paris', 'Mongolia', 'Eygpt']\n"
     ]
    }
   ],
   "source": [
    "destinations.reverse()\n",
    "print(destinations)"
   ]
  },
  {
   "cell_type": "code",
   "execution_count": 149,
   "id": "ca22081c-794e-4639-9661-e247f5418bbe",
   "metadata": {},
   "outputs": [
    {
     "name": "stdout",
     "output_type": "stream",
     "text": [
      "['Eygpt', 'Mongolia', 'Morocco', 'Paris', 'Xuzhou']\n"
     ]
    }
   ],
   "source": [
    "destinations.sort()\n",
    "print(destinations)"
   ]
  },
  {
   "cell_type": "code",
   "execution_count": 151,
   "id": "9ca48472-acea-4b06-bf65-72b1cec503d7",
   "metadata": {},
   "outputs": [
    {
     "name": "stdout",
     "output_type": "stream",
     "text": [
      "['Xuzhou', 'Paris', 'Morocco', 'Mongolia', 'Eygpt']\n",
      "5\n"
     ]
    }
   ],
   "source": [
    "destinations.sort(reverse = True)\n",
    "print(destinations)\n",
    "print(len(destinations))"
   ]
  },
  {
   "cell_type": "code",
   "execution_count": 3,
   "id": "310bc962-3ab1-46ff-af97-7ca20610ed40",
   "metadata": {},
   "outputs": [
    {
     "name": "stdout",
     "output_type": "stream",
     "text": [
      "I like pepperoni pizza\n",
      "I like pineapple pizza\n",
      "I like chicken pizza\n",
      "\n",
      "I really don't like pizza!\n"
     ]
    }
   ],
   "source": [
    "pizzas = ['pepperoni','pineapple','chicken']\n",
    "\n",
    "for pizza in pizzas:\n",
    "    print(f\"I like {pizza} pizza\")\n",
    "    \n",
    "print(\"\\nI really don't like pizza!\")"
   ]
  },
  {
   "cell_type": "code",
   "execution_count": 5,
   "id": "405d064e-911b-4e4b-af6c-8df6b92d530f",
   "metadata": {},
   "outputs": [
    {
     "name": "stdout",
     "output_type": "stream",
     "text": [
      "A cat would make a great pet.\n",
      "A dog would make a great pet.\n",
      "A rabbit would make a great pet.\n",
      "\n",
      "Any of these animals would make a great pet!\n"
     ]
    }
   ],
   "source": [
    "animals = {'dog','cat','rabbit'}\n",
    "\n",
    "for animal in animals:\n",
    "    print(f\"A {animal} would make a great pet.\")\n",
    "    \n",
    "print(\"\\nAny of these animals would make a great pet!\")"
   ]
  },
  {
   "cell_type": "code",
   "execution_count": 6,
   "id": "69570336-f430-488b-bf1b-8f1270770bfa",
   "metadata": {},
   "outputs": [
    {
     "name": "stdout",
     "output_type": "stream",
     "text": [
      "1\n",
      "2\n",
      "3\n",
      "4\n",
      "5\n",
      "6\n",
      "7\n",
      "8\n",
      "9\n",
      "10\n",
      "11\n",
      "12\n",
      "13\n",
      "14\n",
      "15\n",
      "16\n",
      "17\n",
      "18\n",
      "19\n",
      "20\n"
     ]
    }
   ],
   "source": [
    "for value in range(1,21):\n",
    "    print(value)"
   ]
  },
  {
   "cell_type": "code",
   "execution_count": 7,
   "id": "68717271-4352-4662-af82-66ba5fca6298",
   "metadata": {},
   "outputs": [
    {
     "name": "stdout",
     "output_type": "stream",
     "text": [
      "1\n",
      "1000000\n",
      "500000500000\n"
     ]
    }
   ],
   "source": [
    "values = [value for value in range(1,1000001)]\n",
    "print(min(values))\n",
    "print(max(values))\n",
    "print(sum(values))"
   ]
  },
  {
   "cell_type": "code",
   "execution_count": 8,
   "id": "16d20fa3-d31d-485c-8051-cec8b11436f8",
   "metadata": {},
   "outputs": [
    {
     "name": "stdout",
     "output_type": "stream",
     "text": [
      "1\n",
      "3\n",
      "5\n",
      "7\n",
      "9\n",
      "11\n",
      "13\n",
      "15\n",
      "17\n",
      "19\n"
     ]
    }
   ],
   "source": [
    "odds = [odd for odd in range(1,20,2)]\n",
    "\n",
    "for odd in odds:\n",
    "    print(odd)"
   ]
  },
  {
   "cell_type": "code",
   "execution_count": 9,
   "id": "eb41ec24-3d3c-4d20-a9cc-e45285bb7e4a",
   "metadata": {},
   "outputs": [
    {
     "name": "stdout",
     "output_type": "stream",
     "text": [
      "3\n",
      "6\n",
      "9\n",
      "12\n",
      "15\n",
      "18\n",
      "21\n",
      "24\n",
      "27\n",
      "30\n"
     ]
    }
   ],
   "source": [
    "triples = [triple for triple in range(3,31,3)]\n",
    "\n",
    "for triple in triples:\n",
    "    print(triple)"
   ]
  },
  {
   "cell_type": "code",
   "execution_count": 10,
   "id": "d449e52f-0c36-460e-9e9a-f55b9de76b80",
   "metadata": {},
   "outputs": [
    {
     "name": "stdout",
     "output_type": "stream",
     "text": [
      "1\n",
      "8\n",
      "27\n",
      "64\n",
      "125\n",
      "216\n",
      "343\n",
      "512\n",
      "729\n",
      "1000\n"
     ]
    }
   ],
   "source": [
    "cubes = [value**3 for value in range(1,11)]\n",
    "\n",
    "for cube in cubes:\n",
    "    print(cube)"
   ]
  },
  {
   "cell_type": "code",
   "execution_count": 13,
   "id": "c81d119e-8e56-46f7-b0f2-dd415a7d024a",
   "metadata": {},
   "outputs": [
    {
     "name": "stdout",
     "output_type": "stream",
     "text": [
      "The first three items in the list are:['fish', 'shrimp', 'chocolate']\n",
      "Three items from the middle of the list are:['shrimp', 'chocolate', 'ice cream']\n",
      "The last three items in the list are:['chocolate', 'ice cream', 'french fries']\n"
     ]
    }
   ],
   "source": [
    "food = ['fish','shrimp','chocolate','ice cream','french fries']\n",
    "\n",
    "print(f\"The first three items in the list are:{food[:3]}\")\n",
    "print(f\"Three items from the middle of the list are:{food[1:4]}\")\n",
    "print(f\"The last three items in the list are:{food[-3:]}\")"
   ]
  },
  {
   "cell_type": "code",
   "execution_count": 15,
   "id": "245fddb8-a83b-4d4e-908c-71c874665702",
   "metadata": {},
   "outputs": [
    {
     "name": "stdout",
     "output_type": "stream",
     "text": [
      "My favourite pizzas are:['pepperoni', 'pineapple', 'chicken', 'shrimp']\n",
      "My friend's favorite pizzas are:['pepperoni', 'pineapple', 'chicken', 'sausage']\n"
     ]
    }
   ],
   "source": [
    "friend_pizzas = pizzas[:]\n",
    "\n",
    "pizzas.append('shrimp')\n",
    "friend_pizzas.append('sausage')\n",
    "print(f\"My favourite pizzas are:{pizzas}\")\n",
    "print(f\"My friend's favorite pizzas are:{friend_pizzas}\")"
   ]
  },
  {
   "cell_type": "code",
   "execution_count": 20,
   "id": "d91cc295-cabc-436c-8135-c6f2052d72dd",
   "metadata": {},
   "outputs": [
    {
     "name": "stdout",
     "output_type": "stream",
     "text": [
      "french fries\n",
      "rice\n",
      "fried chicken\n",
      "cake\n",
      "hot pot\n",
      "\n",
      "\n",
      "french fries\n",
      "ice cream\n",
      "fried chicken\n",
      "cake\n",
      "dumplings\n"
     ]
    }
   ],
   "source": [
    "easy_foods = ('french fries','rice','fried chicken','cake','hot pot')\n",
    "\n",
    "for food in easy_foods:\n",
    "    print(food)\n",
    "\n",
    "print('\\n')\n",
    "easy_foods = ('french fries','ice cream','fried chicken','cake','dumplings')\n",
    "for food in easy_foods:\n",
    "    print(food)"
   ]
  },
  {
   "cell_type": "code",
   "execution_count": 22,
   "id": "82e493c6-f2b7-4e2b-b020-b6a8a28b9990",
   "metadata": {},
   "outputs": [
    {
     "data": {
      "text/plain": [
       "True"
      ]
     },
     "execution_count": 22,
     "metadata": {},
     "output_type": "execute_result"
    }
   ],
   "source": [
    "car1 = 'bmw'\n",
    "car2 = 'BMW'\n",
    "car1 == car2"
   ]
  },
  {
   "cell_type": "code",
   "execution_count": 23,
   "id": "a6ef8493-9185-4083-a5da-46b5ef0eba1f",
   "metadata": {},
   "outputs": [
    {
     "data": {
      "text/plain": [
       "True"
      ]
     },
     "execution_count": 23,
     "metadata": {},
     "output_type": "execute_result"
    }
   ],
   "source": [
    "car1 == car2.lower()"
   ]
  },
  {
   "cell_type": "code",
   "execution_count": 27,
   "id": "93dbedf0-a525-4a16-b015-bb79f2cf30f9",
   "metadata": {},
   "outputs": [
    {
     "name": "stdout",
     "output_type": "stream",
     "text": [
      "you get 15 scores\n"
     ]
    }
   ],
   "source": [
    "alien_color = ['green','yellow','red']\n",
    "\n",
    "alien1 = 'green'\n",
    "alien2 = 'red'\n",
    "\n",
    "if alien2 == 'green':\n",
    "    print(\"you get 5 scores\")\n",
    "elif alien2 == 'yellow':\n",
    "    print(\"you get 10 scores\")\n",
    "else:\n",
    "    print(\"you get 15 scores\")"
   ]
  },
  {
   "cell_type": "code",
   "execution_count": 30,
   "id": "907b3198-6c9f-42dd-b58f-7f27e8737b08",
   "metadata": {},
   "outputs": [
    {
     "name": "stdout",
     "output_type": "stream",
     "text": [
      "adult\n"
     ]
    }
   ],
   "source": [
    "age = 23\n",
    "\n",
    "if age < 2:\n",
    "    print('baby')\n",
    "elif age < 4:\n",
    "    print('infant')\n",
    "elif age < 13:\n",
    "    print('child')\n",
    "elif age < 20:\n",
    "    print('teen')\n",
    "elif age < 65:\n",
    "    print('adult')\n",
    "else:\n",
    "    print('elder')"
   ]
  },
  {
   "cell_type": "code",
   "execution_count": 32,
   "id": "c61c72ad-f119-4ac9-b245-81260d18bb79",
   "metadata": {},
   "outputs": [
    {
     "name": "stdout",
     "output_type": "stream",
     "text": [
      "you really like bananas\n"
     ]
    }
   ],
   "source": [
    "favourite_fruits = ['banana','watermelon','cantaloupe']\n",
    "\n",
    "if 'apple' in favourite_fruits:\n",
    "    print(\"you really like apples\")\n",
    "if \"banana\" in favourite_fruits:\n",
    "    print(\"you really like bananas\")"
   ]
  },
  {
   "cell_type": "code",
   "execution_count": 33,
   "id": "56f2589a-34c8-450f-a627-0ad492a77fa5",
   "metadata": {},
   "outputs": [
    {
     "name": "stdout",
     "output_type": "stream",
     "text": [
      "Hello admin,would you like to see a status report?\n",
      "Hello Vincy,thank you for logging in again.\n",
      "Hello Tom,thank you for logging in again.\n",
      "Hello Javk,thank you for logging in again.\n",
      "Hello Even,thank you for logging in again.\n"
     ]
    }
   ],
   "source": [
    "users = ['admin','vincy','tom','javk','even']\n",
    "\n",
    "for user in users:\n",
    "    if user == 'admin':\n",
    "        print(\"Hello admin,would you like to see a status report?\")\n",
    "    else:\n",
    "        print(f\"Hello {user.title()},thank you for logging in again.\")"
   ]
  },
  {
   "cell_type": "code",
   "execution_count": 34,
   "id": "ef462147-6b38-4bd7-a250-9175593a738f",
   "metadata": {},
   "outputs": [
    {
     "name": "stdout",
     "output_type": "stream",
     "text": [
      "We need to find some users!\n"
     ]
    }
   ],
   "source": [
    "users = []\n",
    "\n",
    "if users:\n",
    "    for user in users:\n",
    "        if user == 'admin':\n",
    "            print(\"Hello admin,would you like to see a status report?\")\n",
    "        else:\n",
    "            print(f\"Hello {user.title()},thank you for logging in again.\")\n",
    "else:\n",
    "    print(\"We need to find some users!\")"
   ]
  },
  {
   "cell_type": "code",
   "execution_count": 35,
   "id": "d4b94704-ca85-420c-8317-19b2ae6619ae",
   "metadata": {},
   "outputs": [
    {
     "name": "stdout",
     "output_type": "stream",
     "text": [
      "Please type an another name.\n",
      "MARY is never used.\n",
      "Please type an another name.\n",
      "john is never used.\n",
      "libra is never used.\n"
     ]
    }
   ],
   "source": [
    "current_users = ['admin','vincy','tom','jack','evan']\n",
    "new_users = ['evan','MARY','JACK','john','libra']\n",
    "\n",
    "for user in new_users:\n",
    "    if user.lower() in current_users:\n",
    "        print(\"Please type an another name.\")\n",
    "    else:\n",
    "        print(f\"{user} is never used.\")"
   ]
  },
  {
   "cell_type": "code",
   "execution_count": 36,
   "id": "05ada34d-0735-40c9-aedf-d06dde83d922",
   "metadata": {},
   "outputs": [
    {
     "name": "stdout",
     "output_type": "stream",
     "text": [
      "1st\n",
      "2nd\n",
      "3rd\n",
      "4th\n",
      "5th\n",
      "6th\n",
      "7th\n",
      "8th\n",
      "9th\n"
     ]
    }
   ],
   "source": [
    "nums = [num for num in range(1,10)]\n",
    "\n",
    "for num in nums:\n",
    "    if num==1:\n",
    "        print(\"1st\")\n",
    "    elif num==2:\n",
    "        print('2nd')\n",
    "    elif num==3:\n",
    "        print('3rd')\n",
    "    else:\n",
    "        print(f\"{num}th\")"
   ]
  },
  {
   "cell_type": "code",
   "execution_count": 3,
   "id": "0b119e2f-91b7-43be-8b56-c3f009460f23",
   "metadata": {},
   "outputs": [
    {
     "name": "stdout",
     "output_type": "stream",
     "text": [
      "{'first_name': 'vincy', 'last_name': 'wang', 'age': 23, 'city': 'baoji'}\t\n",
      "{'first_name': 'evan', 'last_name': 'lu', 'age': 23, 'city': 'guangqi'}\t\n",
      "{'first_name': 'libra', 'last_name': 'zuo', 'age': 23, 'city': 'weiming'}\t\n"
     ]
    }
   ],
   "source": [
    "people1 = {\n",
    "        'first_name':'vincy',\n",
    "        'last_name':'wang',\n",
    "        'age':23,\n",
    "        'city':'baoji',\n",
    "        }\n",
    "people2 = {\n",
    "        'first_name':'evan',\n",
    "        'last_name':'lu',\n",
    "        'age':23,\n",
    "        'city':'guangqi',\n",
    "        }\n",
    "people3 = {\n",
    "        'first_name':'libra',\n",
    "        'last_name':'zuo',\n",
    "        'age':23,\n",
    "        'city':'weiming',\n",
    "        }\n",
    "people = [people1,people2,people3]\n",
    "for person in people:\n",
    "    print(f\"{person}\\t\")"
   ]
  },
  {
   "cell_type": "code",
   "execution_count": 38,
   "id": "6561e1fa-4cb8-46dd-ab3e-bec1f353526a",
   "metadata": {},
   "outputs": [
    {
     "name": "stdout",
     "output_type": "stream",
     "text": [
      "{'vincy': 9, 'tom': 28, 'evan': 22, 'jack': 8}\n"
     ]
    }
   ],
   "source": [
    "favorite_num = {\n",
    "    'vincy':9,\n",
    "    'tom':28,\n",
    "    'evan':22,\n",
    "    'jack':8,\n",
    "    }\n",
    "print(favorite_num)"
   ]
  },
  {
   "cell_type": "code",
   "execution_count": 6,
   "id": "db93e06c-cc9b-449c-88f3-89e7f306acc2",
   "metadata": {},
   "outputs": [
    {
     "name": "stdout",
     "output_type": "stream",
     "text": [
      "vincy:['changsha', 'morocco']\t\n",
      "libra:['weiming', 'baoji']\t\n",
      "evan:['guangqi', 'changsha']\t\n"
     ]
    }
   ],
   "source": [
    "#6-9\n",
    "favorite_place  = {\n",
    "                'vincy':['changsha','morocco'],\n",
    "                'libra':['weiming','baoji'],\n",
    "                'evan':['guangqi','changsha']\n",
    "                    }\n",
    "for name,place in favorite_place.items():\n",
    "    print(f\"{name}:{place}\\t\")"
   ]
  },
  {
   "cell_type": "code",
   "execution_count": 10,
   "id": "65ec5e75-5017-4cd4-bba9-6f4576fdc197",
   "metadata": {},
   "outputs": [
    {
     "name": "stdout",
     "output_type": "stream",
     "text": [
      "Changsha:\n",
      "\t{'country': 'China', 'popul': 1024, 'fact': 'chili'}\n",
      "Chaouen:\n",
      "\t{'country': 'morocco', 'popul': 4, 'fact': 'blue'}\n"
     ]
    }
   ],
   "source": [
    "#6-11\n",
    "cities = {\n",
    "    'changsha':{\n",
    "        'country':'China',\n",
    "        'popul':1024,\n",
    "        'fact':'chili'\n",
    "        },\n",
    "    'chaouen':{\n",
    "        'country':'morocco',\n",
    "        'popul':4,\n",
    "        'fact':'blue'\n",
    "        }\n",
    "}\n",
    "for city,info in cities.items():\n",
    "    print(f\"{city.title()}:\\n\\t{info}\")"
   ]
  },
  {
   "cell_type": "code",
   "execution_count": 12,
   "id": "e83c8094-df65-4a09-989e-497e3e4fe12c",
   "metadata": {},
   "outputs": [
    {
     "name": "stdin",
     "output_type": "stream",
     "text": [
      "What kind of car would you rent? toyota\n"
     ]
    },
    {
     "name": "stdout",
     "output_type": "stream",
     "text": [
      "Let me see if I can find you a Toyota.\n"
     ]
    }
   ],
   "source": [
    "#7-1\n",
    "car = input(\"What kind of car would you rent?\")\n",
    "print(f\"Let me see if I can find you a {car.title()}.\")"
   ]
  },
  {
   "cell_type": "code",
   "execution_count": 14,
   "id": "2268fc79-804f-4fc6-9326-d6ceb72cbdbc",
   "metadata": {},
   "outputs": [
    {
     "name": "stdin",
     "output_type": "stream",
     "text": [
      "How many people? 5\n"
     ]
    },
    {
     "name": "stdout",
     "output_type": "stream",
     "text": [
      "Welcome to dinner.\n"
     ]
    }
   ],
   "source": [
    "#7-2\n",
    "peo = input(\"How many people?\")\n",
    "peo = int(peo)\n",
    "\n",
    "if peo>8:\n",
    "    print(\"There is no empty table.\")\n",
    "else:\n",
    "    print(\"Welcome to dinner.\")"
   ]
  },
  {
   "cell_type": "code",
   "execution_count": 15,
   "id": "9e3b7b49-2284-42d4-832d-74dc50cc6241",
   "metadata": {},
   "outputs": [
    {
     "name": "stdin",
     "output_type": "stream",
     "text": [
      "Please input an ingredient: pineapple\n"
     ]
    },
    {
     "name": "stdout",
     "output_type": "stream",
     "text": [
      "pineapple\n"
     ]
    },
    {
     "name": "stdin",
     "output_type": "stream",
     "text": [
      "Please input an ingredient: apple\n"
     ]
    },
    {
     "name": "stdout",
     "output_type": "stream",
     "text": [
      "apple\n"
     ]
    },
    {
     "name": "stdin",
     "output_type": "stream",
     "text": [
      "Please input an ingredient: quit\n"
     ]
    }
   ],
   "source": [
    "#7-4\n",
    "while True:\n",
    "    iner = input(\"Please input an ingredient:\")\n",
    "    \n",
    "    if(iner == 'quit'):\n",
    "        break\n",
    "    else:\n",
    "        print(iner)"
   ]
  },
  {
   "cell_type": "code",
   "execution_count": 17,
   "id": "80233dcd-fff3-4e9d-b463-a433d7f0f1bb",
   "metadata": {},
   "outputs": [
    {
     "name": "stdin",
     "output_type": "stream",
     "text": [
      "How old are you? 3\n"
     ]
    },
    {
     "name": "stdout",
     "output_type": "stream",
     "text": [
      "You can see the film for free.\n"
     ]
    },
    {
     "name": "stdin",
     "output_type": "stream",
     "text": [
      "How old are you? 12\n"
     ]
    },
    {
     "name": "stdout",
     "output_type": "stream",
     "text": [
      "You need to pay $10.\n"
     ]
    },
    {
     "name": "stdin",
     "output_type": "stream",
     "text": [
      "How old are you? 54\n"
     ]
    },
    {
     "name": "stdout",
     "output_type": "stream",
     "text": [
      "You need to pay $15.\n"
     ]
    },
    {
     "name": "stdin",
     "output_type": "stream",
     "text": [
      "How old are you? quit\n"
     ]
    }
   ],
   "source": [
    "#7-5\n",
    "while True:\n",
    "    age = input(\"How old are you?\")\n",
    "    if(age=='quit'):\n",
    "        break\n",
    "    age = int(age)\n",
    "    \n",
    "    if(age<=3):\n",
    "        print(\"You can see the film for free.\")\n",
    "    elif(age<=12):\n",
    "        print(\"You need to pay $10.\")\n",
    "    else:\n",
    "        print(\"You need to pay $15.\")"
   ]
  },
  {
   "cell_type": "code",
   "execution_count": null,
   "id": "7db69961-423d-4f6a-9f0c-d70fc1e60281",
   "metadata": {},
   "outputs": [],
   "source": []
  }
 ],
 "metadata": {
  "kernelspec": {
   "display_name": "Python 3 (ipykernel)",
   "language": "python",
   "name": "python3"
  },
  "language_info": {
   "codemirror_mode": {
    "name": "ipython",
    "version": 3
   },
   "file_extension": ".py",
   "mimetype": "text/x-python",
   "name": "python",
   "nbconvert_exporter": "python",
   "pygments_lexer": "ipython3",
   "version": "3.9.13"
  }
 },
 "nbformat": 4,
 "nbformat_minor": 5
}
