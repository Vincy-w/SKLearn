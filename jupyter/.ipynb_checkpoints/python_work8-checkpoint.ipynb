{
 "cells": [
  {
   "cell_type": "code",
   "execution_count": 1,
   "id": "34d45403-cb9c-4ed0-a992-c4d34aa4cf2a",
   "metadata": {},
   "outputs": [
    {
     "name": "stdout",
     "output_type": "stream",
     "text": [
      "I'm learning function of python.\n"
     ]
    }
   ],
   "source": [
    "#8.1\n",
    "def display_message():\n",
    "    print(\"I'm learning function of python.\")\n",
    "    \n",
    "display_message()"
   ]
  },
  {
   "cell_type": "code",
   "execution_count": 2,
   "id": "cf2634f0-f93c-48dd-8640-7aa2fc658f28",
   "metadata": {},
   "outputs": [
    {
     "name": "stdout",
     "output_type": "stream",
     "text": [
      "One of my favorite books is Gone With The Wind.\n"
     ]
    }
   ],
   "source": [
    "def favorite_book(title):\n",
    "    print(f\"One of my favorite books is {title.title()}.\")\n",
    "    \n",
    "favorite_book('Gone with the wind')"
   ]
  },
  {
   "cell_type": "code",
   "execution_count": 4,
   "id": "cb0a2366-cbe2-41ad-8935-5f655f01d4bb",
   "metadata": {},
   "outputs": [
    {
     "name": "stdout",
     "output_type": "stream",
     "text": [
      "T-shirt:\n",
      "\tsize:s\n",
      "\tpattern:cat\n",
      "T-shirt:\n",
      "\tsize:xl\n",
      "\tpattern:flower\n"
     ]
    }
   ],
   "source": [
    "#8-3\n",
    "def make_shirt(size,pattern):\n",
    "    print(\"T-shirt:\")\n",
    "    print(f\"\\tsize:{size}\\n\\tpattern:{pattern}\")\n",
    "    \n",
    "make_shirt('s','cat')\n",
    "make_shirt('xl','flower')"
   ]
  },
  {
   "cell_type": "code",
   "execution_count": 5,
   "id": "f3cf3af0-f116-40be-8894-9354d3b621f3",
   "metadata": {},
   "outputs": [
    {
     "name": "stdout",
     "output_type": "stream",
     "text": [
      "T-shirt:\n",
      "\tsize:L\n",
      "\tpattern:I love python\n",
      "T-shirt:\n",
      "\tsize:M\n",
      "\tpattern:I love python\n",
      "T-shirt:\n",
      "\tsize:XXL\n",
      "\tpattern:I love java\n"
     ]
    }
   ],
   "source": [
    "def make_shirt(size,pattern='I love python'):\n",
    "    print(\"T-shirt:\")\n",
    "    print(f\"\\tsize:{size}\\n\\tpattern:{pattern}\")\n",
    "    \n",
    "make_shirt('L')\n",
    "make_shirt('M')\n",
    "make_shirt('XXL','I love java')"
   ]
  },
  {
   "cell_type": "code",
   "execution_count": 7,
   "id": "5a3dbcc4-d2ae-42d5-828b-fb0d3d273998",
   "metadata": {},
   "outputs": [
    {
     "name": "stdout",
     "output_type": "stream",
     "text": [
      "Changsha is in China.\n",
      "Beijing is in China.\n",
      "Paris is in France.\n"
     ]
    }
   ],
   "source": [
    "#8-5\n",
    "def describe_city(city,country='China'):\n",
    "    print(f\"{city.title()} is in {country.title()}.\")\n",
    "    \n",
    "describe_city('changsha')\n",
    "describe_city('beijing')\n",
    "describe_city('paris','france')"
   ]
  },
  {
   "cell_type": "code",
   "execution_count": 8,
   "id": "5809ca0c-bb3c-418c-b12e-95a78c0d8803",
   "metadata": {},
   "outputs": [
    {
     "name": "stdout",
     "output_type": "stream",
     "text": [
      "Changsha,China\n",
      "Beijing,China\n"
     ]
    }
   ],
   "source": [
    "#8-6\n",
    "def city_country(city,country):\n",
    "    return f\"{city.title()},{country.title()}\"\n",
    "\n",
    "print(city_country(\"changsha\",'china'))\n",
    "print(city_country('beijing','china'))"
   ]
  },
  {
   "cell_type": "code",
   "execution_count": 9,
   "id": "0e4ccb92-3f24-41c1-baa5-588d35bd9245",
   "metadata": {},
   "outputs": [
    {
     "name": "stdout",
     "output_type": "stream",
     "text": [
      "{'singer': 'Gem', 'name': 'love', 'num': 5}\n"
     ]
    }
   ],
   "source": [
    "def make_album(singer,name,num=None):\n",
    "    album = {'singer':singer.title(),\n",
    "            'name':name,\n",
    "            'num':num}\n",
    "    return album\n",
    "print(make_album('gem','love',5))"
   ]
  },
  {
   "cell_type": "code",
   "execution_count": 12,
   "id": "4b2e043a-4229-4225-af97-14cd1d72555a",
   "metadata": {},
   "outputs": [
    {
     "name": "stdin",
     "output_type": "stream",
     "text": [
      "input the singer's name: gem\n",
      "input the name of album: love\n",
      "input the singer's name: alen\n",
      "input the name of album: miss pretty\n",
      "input the singer's name: q\n"
     ]
    },
    {
     "name": "stdout",
     "output_type": "stream",
     "text": [
      "[{'singer': 'Gem', 'name': 'love', 'num': None}, {'singer': 'Alen', 'name': 'miss pretty', 'num': None}]\n"
     ]
    }
   ],
   "source": [
    "albums = []\n",
    "while True:\n",
    "    singer = input(\"input the singer's name:\")\n",
    "    if(singer=='q'):\n",
    "        break\n",
    "    name = input(\"input the name of album:\")\n",
    "    if(name == 'q'):\n",
    "        break\n",
    "    albums.append(make_album(singer,name))\n",
    "print(albums)"
   ]
  },
  {
   "cell_type": "code",
   "execution_count": null,
   "id": "5ae29c42-080c-4b85-9060-912306767d77",
   "metadata": {},
   "outputs": [],
   "source": []
  }
 ],
 "metadata": {
  "kernelspec": {
   "display_name": "Python 3 (ipykernel)",
   "language": "python",
   "name": "python3"
  },
  "language_info": {
   "codemirror_mode": {
    "name": "ipython",
    "version": 3
   },
   "file_extension": ".py",
   "mimetype": "text/x-python",
   "name": "python",
   "nbconvert_exporter": "python",
   "pygments_lexer": "ipython3",
   "version": "3.9.13"
  }
 },
 "nbformat": 4,
 "nbformat_minor": 5
}
