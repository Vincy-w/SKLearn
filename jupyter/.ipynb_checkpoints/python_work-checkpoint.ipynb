{
 "cells": [
  {
   "cell_type": "code",
   "execution_count": 119,
   "id": "1b3f4a77-c192-451c-8028-bb2c512cc5e1",
   "metadata": {},
   "outputs": [
    {
     "name": "stdout",
     "output_type": "stream",
     "text": [
      "hello world\n"
     ]
    }
   ],
   "source": [
    "print(\"hello world\")"
   ]
  },
  {
   "cell_type": "code",
   "execution_count": 120,
   "id": "15b4b80b-5b07-4f67-a3c9-25ddc882494f",
   "metadata": {},
   "outputs": [
    {
     "name": "stdout",
     "output_type": "stream",
     "text": [
      "hello world\n"
     ]
    }
   ],
   "source": [
    "message=\"hello world\"\n",
    "print(message)"
   ]
  },
  {
   "cell_type": "code",
   "execution_count": 121,
   "id": "67930052-e23a-41f1-892c-5e6906e3a75e",
   "metadata": {},
   "outputs": [
    {
     "name": "stdout",
     "output_type": "stream",
     "text": [
      "hello python world\n"
     ]
    }
   ],
   "source": [
    "message=\"hello python world\"\n",
    "print(message)"
   ]
  },
  {
   "cell_type": "code",
   "execution_count": 122,
   "id": "2a6e50ac-3f30-44e7-951a-e83cdd773345",
   "metadata": {},
   "outputs": [
    {
     "name": "stdout",
     "output_type": "stream",
     "text": [
      "tom said\"hello world\"\n"
     ]
    }
   ],
   "source": [
    "print('tom said\"hello world\"')"
   ]
  },
  {
   "cell_type": "code",
   "execution_count": 123,
   "id": "1b29a926-57f6-4950-b0bc-f648b17ed315",
   "metadata": {},
   "outputs": [
    {
     "name": "stdout",
     "output_type": "stream",
     "text": [
      "vincy wang\n"
     ]
    }
   ],
   "source": [
    "first_name = \"vincy\"\n",
    "last_name = \"wang\"\n",
    "full_name = f\"{first_name} {last_name}\"\n",
    "print(full_name)"
   ]
  },
  {
   "cell_type": "code",
   "execution_count": 124,
   "id": "3de23a47-af3a-48a2-affc-48f984656af1",
   "metadata": {},
   "outputs": [
    {
     "name": "stdout",
     "output_type": "stream",
     "text": [
      "Hello,Vincy Wang\n"
     ]
    }
   ],
   "source": [
    "print(f\"Hello,{full_name.title()}\")"
   ]
  },
  {
   "cell_type": "code",
   "execution_count": 125,
   "id": "c427d2a5-0c2f-4a4c-b173-eb3f08866c0e",
   "metadata": {},
   "outputs": [
    {
     "name": "stdout",
     "output_type": "stream",
     "text": [
      "Hello Eric,would you like to learn some Python today?\n"
     ]
    }
   ],
   "source": [
    "name = \"Eric\"\n",
    "print(f\"Hello {name},would you like to learn some Python today?\")"
   ]
  },
  {
   "cell_type": "code",
   "execution_count": 126,
   "id": "feabb73d-658b-4515-bc42-070b427ff981",
   "metadata": {},
   "outputs": [
    {
     "name": "stdout",
     "output_type": "stream",
     "text": [
      "eric\n",
      "ERIC\n",
      "Eric\n"
     ]
    }
   ],
   "source": [
    "name = \"eric\"\n",
    "print(name.lower())\n",
    "print(name.upper())\n",
    "print(name.title())"
   ]
  },
  {
   "cell_type": "code",
   "execution_count": 127,
   "id": "9c56d7a7-5c40-4f28-9d74-7e896eab7da8",
   "metadata": {},
   "outputs": [
    {
     "name": "stdout",
     "output_type": "stream",
     "text": [
      "Albert Einstein once said,\"A person who never made a mistake never tried anything new.\"\n"
     ]
    }
   ],
   "source": [
    "name = \"Albert Einstein\"\n",
    "sentence = \"A person who never made a mistake never tried anything new.\"\n",
    "print(f'{name} once said,\"{sentence}\"')"
   ]
  },
  {
   "cell_type": "code",
   "execution_count": 128,
   "id": "75a8d986-74be-4817-9373-ba1843759c5a",
   "metadata": {},
   "outputs": [
    {
     "name": "stdout",
     "output_type": "stream",
     "text": [
      "\t eric \n",
      "\n",
      "eric\n"
     ]
    }
   ],
   "source": [
    "name = \"\\t eric \\n\"\n",
    "print(name)\n",
    "print(name.strip())"
   ]
  },
  {
   "cell_type": "code",
   "execution_count": 129,
   "id": "7e286de5-30d6-49ae-8117-20e595cc132a",
   "metadata": {},
   "outputs": [
    {
     "data": {
      "text/plain": [
       "27"
      ]
     },
     "execution_count": 129,
     "metadata": {},
     "output_type": "execute_result"
    }
   ],
   "source": [
    "3 ** 3 #python用两个乘号表示幂运算"
   ]
  },
  {
   "cell_type": "code",
   "execution_count": 130,
   "id": "b0dc1921-ec58-458f-8dce-30b7e3027226",
   "metadata": {},
   "outputs": [
    {
     "name": "stdout",
     "output_type": "stream",
     "text": [
      "0 1 2\n"
     ]
    }
   ],
   "source": [
    "x,y,z = 0,1,2 #多变量赋值\n",
    "print(x,y,z)"
   ]
  },
  {
   "cell_type": "code",
   "execution_count": 131,
   "id": "08aa6884-742e-49fe-8820-f7c40701743e",
   "metadata": {},
   "outputs": [
    {
     "name": "stdout",
     "output_type": "stream",
     "text": [
      "8\n",
      "8\n",
      "8\n",
      "8.0\n"
     ]
    }
   ],
   "source": [
    "print(4+4)\n",
    "print(2*4)\n",
    "print(9-1)\n",
    "print(16/2)"
   ]
  },
  {
   "cell_type": "code",
   "execution_count": 132,
   "id": "5c94e262-1cd2-412c-a179-28138fa72771",
   "metadata": {},
   "outputs": [],
   "source": [
    "import this"
   ]
  },
  {
   "cell_type": "code",
   "execution_count": 133,
   "id": "f663b104-7518-474c-832e-04e9a59de74a",
   "metadata": {},
   "outputs": [
    {
     "name": "stdout",
     "output_type": "stream",
     "text": [
      "Jack\n",
      "Tom\n",
      "Vincy\n",
      "Marry\n",
      "Jenny\n"
     ]
    }
   ],
   "source": [
    "names = ['Jack','tom','vincy','marry','jenny']\n",
    "\n",
    "for ele in names:\n",
    "    print(ele.title())"
   ]
  },
  {
   "cell_type": "code",
   "execution_count": 134,
   "id": "4be8868a-707e-428e-9d40-c2bfc88af087",
   "metadata": {},
   "outputs": [
    {
     "name": "stdout",
     "output_type": "stream",
     "text": [
      "Jack,how are you.\n",
      "Tom,how are you.\n",
      "Vincy,how are you.\n",
      "Marry,how are you.\n",
      "Jenny,how are you.\n"
     ]
    }
   ],
   "source": [
    "for ele in names:\n",
    "    print(f'{ele.title()},how are you.')"
   ]
  },
  {
   "cell_type": "code",
   "execution_count": 135,
   "id": "72db360f-0d12-45bf-9592-fa79236462f9",
   "metadata": {},
   "outputs": [
    {
     "name": "stdout",
     "output_type": "stream",
     "text": [
      "I'd like to own a Honda motorcycle.\n",
      "I'd like to own a Jeep car.\n",
      "I'd like to go everywhere by subway.\n"
     ]
    }
   ],
   "source": [
    "traffic = ['motorcycle','car','subway']\n",
    "print(f\"I'd like to own a Honda {traffic[0]}.\")\n",
    "print(f\"I'd like to own a Jeep {traffic[1]}.\")\n",
    "print(f\"I'd like to go everywhere by {traffic[2]}.\")"
   ]
  },
  {
   "cell_type": "code",
   "execution_count": 136,
   "id": "64e64e42-7c01-4bf3-af5c-08a997559c6b",
   "metadata": {},
   "outputs": [
    {
     "name": "stdout",
     "output_type": "stream",
     "text": [
      "Evan Lu,would you please have dinner with me?\n",
      "Libra Zuo,would you please have dinner with me?\n",
      "Cheese Piggy,would you please have dinner with me?\n",
      "Cheese Piggycan't keep the appointment.\n"
     ]
    }
   ],
   "source": [
    "guests = ['Evan Lu','Libra Zuo','Cheese Piggy']\n",
    "\n",
    "for i in guests:\n",
    "    print(f\"{i},would you please have dinner with me?\")\n",
    "    \n",
    "print(f\"{guests[2]}can't keep the appointment.\")"
   ]
  },
  {
   "cell_type": "code",
   "execution_count": 137,
   "id": "dff4a367-80a5-4e1a-bed6-cc5c95d8e1b2",
   "metadata": {},
   "outputs": [
    {
     "name": "stdout",
     "output_type": "stream",
     "text": [
      "Evan Lu,would you please have dinner with me?\n",
      "Libra Zuo,would you please have dinner with me?\n",
      "Osborn Xiao,would you please have dinner with me?\n"
     ]
    }
   ],
   "source": [
    "guests[2] = 'Osborn Xiao'\n",
    "\n",
    "for i in guests:\n",
    "    print(f\"{i},would you please have dinner with me?\")"
   ]
  },
  {
   "cell_type": "code",
   "execution_count": 138,
   "id": "ea4d8e57-829d-48cd-9dce-10e9530e4199",
   "metadata": {},
   "outputs": [],
   "source": [
    "guests.insert(0,'Vincy Wang')\n",
    "guests.insert(2,'Isaac Newton')\n",
    "guests.append('Van Gogh')"
   ]
  },
  {
   "cell_type": "code",
   "execution_count": 139,
   "id": "6458f276-cc31-4419-a055-6d8e85cc9f71",
   "metadata": {},
   "outputs": [
    {
     "name": "stdout",
     "output_type": "stream",
     "text": [
      "Vincy Wang,would you please have dinner with me?\n",
      "Evan Lu,would you please have dinner with me?\n",
      "Isaac Newton,would you please have dinner with me?\n",
      "Libra Zuo,would you please have dinner with me?\n",
      "Osborn Xiao,would you please have dinner with me?\n",
      "Van Gogh,would you please have dinner with me?\n"
     ]
    }
   ],
   "source": [
    "for i in guests:\n",
    "    print(f\"{i},would you please have dinner with me?\")"
   ]
  },
  {
   "cell_type": "code",
   "execution_count": 140,
   "id": "9a6591ee-6cc7-4a15-b6cf-a169e34f2529",
   "metadata": {},
   "outputs": [
    {
     "name": "stdout",
     "output_type": "stream",
     "text": [
      "Van Gogh,sorry for you.\n",
      "Osborn Xiao,sorry for you.\n",
      "Libra Zuo,sorry for you.\n",
      "Isaac Newton,sorry for you.\n"
     ]
    }
   ],
   "source": [
    "for i in range(4):\n",
    "    gue = guests.pop()\n",
    "    print(f\"{gue},sorry for you.\")"
   ]
  },
  {
   "cell_type": "code",
   "execution_count": 141,
   "id": "36c807d5-b66a-4671-a8bc-f5f28dd5c286",
   "metadata": {},
   "outputs": [
    {
     "name": "stdout",
     "output_type": "stream",
     "text": [
      "Vincy Wang,the dinner will hold on time.\n",
      "Evan Lu,the dinner will hold on time.\n"
     ]
    }
   ],
   "source": [
    "for i in guests:\n",
    "    print(f\"{i},the dinner will hold on time.\")"
   ]
  },
  {
   "cell_type": "code",
   "execution_count": 142,
   "id": "f8898fc7-9712-405b-b569-d357197ef4fa",
   "metadata": {},
   "outputs": [
    {
     "name": "stdout",
     "output_type": "stream",
     "text": [
      "[]\n"
     ]
    }
   ],
   "source": [
    "del guests[0]\n",
    "del guests[0]\n",
    "print(guests)"
   ]
  },
  {
   "cell_type": "code",
   "execution_count": 143,
   "id": "10757d12-e443-467f-b8f9-5726b0f2ae61",
   "metadata": {},
   "outputs": [
    {
     "name": "stdout",
     "output_type": "stream",
     "text": [
      "['Morocco', 'Xuzhou', 'Paris', 'Mongolia', 'Eygpt']\n"
     ]
    }
   ],
   "source": [
    "destinations = ['Morocco','Xuzhou','Paris','Mongolia','Eygpt']\n",
    "\n",
    "print(destinations)"
   ]
  },
  {
   "cell_type": "code",
   "execution_count": 145,
   "id": "fe019328-61f6-4b79-9ad4-3d2a7a28265d",
   "metadata": {},
   "outputs": [
    {
     "name": "stdout",
     "output_type": "stream",
     "text": [
      "['Eygpt', 'Mongolia', 'Morocco', 'Paris', 'Xuzhou']\n"
     ]
    }
   ],
   "source": [
    "print(sorted(destinations))"
   ]
  },
  {
   "cell_type": "code",
   "execution_count": 146,
   "id": "3b12a217-f869-405d-8934-fe66d0124a18",
   "metadata": {},
   "outputs": [
    {
     "name": "stdout",
     "output_type": "stream",
     "text": [
      "['Morocco', 'Xuzhou', 'Paris', 'Mongolia', 'Eygpt']\n"
     ]
    }
   ],
   "source": [
    "print(destinations)"
   ]
  },
  {
   "cell_type": "code",
   "execution_count": 147,
   "id": "5d57f0aa-611b-4058-912c-a4d56e339dc4",
   "metadata": {},
   "outputs": [
    {
     "name": "stdout",
     "output_type": "stream",
     "text": [
      "['Eygpt', 'Mongolia', 'Paris', 'Xuzhou', 'Morocco']\n"
     ]
    }
   ],
   "source": [
    "destinations.reverse()\n",
    "print(destinations)"
   ]
  },
  {
   "cell_type": "code",
   "execution_count": 148,
   "id": "3431904b-bdce-4843-ab6a-1d2ac02eb1ec",
   "metadata": {},
   "outputs": [
    {
     "name": "stdout",
     "output_type": "stream",
     "text": [
      "['Morocco', 'Xuzhou', 'Paris', 'Mongolia', 'Eygpt']\n"
     ]
    }
   ],
   "source": [
    "destinations.reverse()\n",
    "print(destinations)"
   ]
  },
  {
   "cell_type": "code",
   "execution_count": 149,
   "id": "ca22081c-794e-4639-9661-e247f5418bbe",
   "metadata": {},
   "outputs": [
    {
     "name": "stdout",
     "output_type": "stream",
     "text": [
      "['Eygpt', 'Mongolia', 'Morocco', 'Paris', 'Xuzhou']\n"
     ]
    }
   ],
   "source": [
    "destinations.sort()\n",
    "print(destinations)"
   ]
  },
  {
   "cell_type": "code",
   "execution_count": 151,
   "id": "9ca48472-acea-4b06-bf65-72b1cec503d7",
   "metadata": {},
   "outputs": [
    {
     "name": "stdout",
     "output_type": "stream",
     "text": [
      "['Xuzhou', 'Paris', 'Morocco', 'Mongolia', 'Eygpt']\n",
      "5\n"
     ]
    }
   ],
   "source": [
    "destinations.sort(reverse = True)\n",
    "print(destinations)\n",
    "print(len(destinations))"
   ]
  },
  {
   "cell_type": "code",
   "execution_count": null,
   "id": "310bc962-3ab1-46ff-af97-7ca20610ed40",
   "metadata": {},
   "outputs": [],
   "source": []
  }
 ],
 "metadata": {
  "kernelspec": {
   "display_name": "Python 3 (ipykernel)",
   "language": "python",
   "name": "python3"
  },
  "language_info": {
   "codemirror_mode": {
    "name": "ipython",
    "version": 3
   },
   "file_extension": ".py",
   "mimetype": "text/x-python",
   "name": "python",
   "nbconvert_exporter": "python",
   "pygments_lexer": "ipython3",
   "version": "3.9.13"
  }
 },
 "nbformat": 4,
 "nbformat_minor": 5
}
